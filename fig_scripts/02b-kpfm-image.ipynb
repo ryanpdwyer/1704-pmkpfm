{
 "cells": [
  {
   "cell_type": "code",
   "execution_count": 1,
   "metadata": {
    "collapsed": false
   },
   "outputs": [],
   "source": [
    "%matplotlib inline\n",
    "from __future__ import division, print_function\n",
    "import matplotlib as mpl\n",
    "import matplotlib.pyplot as plt\n",
    "import numpy as np\n",
    "import h5py\n",
    "import datetime\n",
    "from kpfm.util import kpfm_data"
   ]
  },
  {
   "cell_type": "code",
   "execution_count": 9,
   "metadata": {
    "collapsed": false
   },
   "outputs": [],
   "source": [
    "m = kpfm_data(\"../data/KPFM/Feb 17 15-54  image 1.txt\")\n",
    "m2 = kpfm_data(\"../data/KPFM/Feb 17 16-47  image 1.txt\")"
   ]
  },
  {
   "cell_type": "code",
   "execution_count": 11,
   "metadata": {
    "collapsed": false
   },
   "outputs": [
    {
     "data": {
      "text/plain": [
       "<matplotlib.patches.Polygon at 0x11033c650>"
      ]
     },
     "execution_count": 11,
     "metadata": {},
     "output_type": "execute_result"
    },
    {
     "data": {
      "image/png": "[encoded data removed]",
      "text/plain": [
       "<matplotlib.figure.Figure at 0x1102c3590>"
      ]
     },
     "metadata": {},
     "output_type": "display_data"
    }
   ],
   "source": [
    "plt.rc('font', size=8)\n",
    "fig, ax = plt.subplots(figsize=figsize * 2/7.2, frameon=False)\n",
    "\n",
    "# ax.imshow(m2.ch1[:, :], extent=np.array([\n",
    "#     0, m2.y_tot,\n",
    "#     0, m2.x_tot])*0.125\n",
    "#          )\n",
    "ax.set_axis_off()\n",
    "start = -1.1\n",
    "end = 0.32\n",
    "step = 0.1\n",
    "all_contours = np.arange(-1.1, 0.32, 0.1)\n",
    "contours = ax.contourf((m2.vy-m2.vy[0])*0.125, (m2.vx - m2.vx[0])*0.125, m2.ch1[:, :], np.arange(-1.1, 0.32, 0.1), \n",
    "            alpha=1, cmap=mpl.cm.YlGnBu)\n",
    "ax.contour((m2.vy-m2.vy[0])*0.125, (m2.vx - m2.vx[0])*0.125, m2.ch1[:, :], [-1.1, -0.9, -0.7, -0.4, -0.1, 0.1],\n",
    "          cmap=mpl.cm.Greys_r, linewidth=0.3)\n",
    "\n",
    "ax.axvspan(ymin=0.05, ymax=0.08, xmin=9, xmax=11, color='0' )\n",
    "# ax.text(0.75, 2.5, u'0.1 V', color=(contours.cmap.colors[-1] + np.array([0, 0, 0])) / 2, size=6)"
   ]
  },
  {
   "cell_type": "code",
   "execution_count": 12,
   "metadata": {
    "collapsed": true
   },
   "outputs": [],
   "source": [
    "fig.savefig('../figs/02b-kpfm-image.pdf', bbox_inches='tight', transparent=True)"
   ]
  }
 ],
 "metadata": {
  "anaconda-cloud": {},
  "kernelspec": {
   "display_name": "Python [default]",
   "language": "python",
   "name": "python2"
  },
  "language_info": {
   "codemirror_mode": {
    "name": "ipython",
    "version": 2
   },
   "file_extension": ".py",
   "mimetype": "text/x-python",
   "name": "python",
   "nbconvert_exporter": "python",
   "pygments_lexer": "ipython2",
   "version": "2.7.12"
  }
 },
 "nbformat": 4,
 "nbformat_minor": 0
}
