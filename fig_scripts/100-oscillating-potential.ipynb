{
 "cells": [
  {
   "cell_type": "code",
   "execution_count": 1,
   "metadata": {
    "collapsed": true
   },
   "outputs": [],
   "source": [
    "%matplotlib inline\n",
    "%config InlineBackend.figure_format = 'retina'\n",
    "from __future__ import division, print_function\n",
    "import matplotlib as mpl\n",
    "import matplotlib.pyplot as plt\n",
    "from matplotlib import patches\n",
    "import numpy as np\n",
    "import six\n",
    "from scipy import signal, linalg\n",
    "import h5py\n",
    "import glob\n",
    "import pmefm\n",
    "import lockin\n",
    "from freqdemod import h5ls\n",
    "from collections import OrderedDict\n",
    "from enum import Enum\n",
    "from munch import Munch\n",
    "from decorator import decorator\n",
    "from kpfm.util import h5filename, align_labels\n",
    "\n",
    "Mod = Enum('Mod', 'x y xy')\n",
    "\n",
    "@h5filename\n",
    "def _h5toPMEFM(f, mod_direction):\n",
    "    \"\"\"For today's data (2017-02-22), note that the gains are all equal.\"\"\"\n",
    "    phi_t = f['CPD'][:]\n",
    "    fs = f.attrs['Inputs.Scan rate [Hz]']\n",
    "    dt = 1/fs\n",
    "    T = phi_t.size * dt\n",
    "    fx = f.attrs['Inputs.Pos Mod Freq (Hz)']\n",
    "    if mod_direction == Mod.xy:\n",
    "        scale_factor = 2\n",
    "    else:\n",
    "        scale_factor = np.sqrt(2)\n",
    "    x_m = f.attrs['Inputs.Pos Mod rms (V)'] * scale_factor * 15 * 0.125 # 125 nm/V\n",
    "    d = {key.replace(\"Inputs.\", \"\"): val for key, val in fh.attrs.items()}\n",
    "    X0 = d['X Start [V]']\n",
    "    Y0 = d['Y Start [V] ']\n",
    "    Xf = d['X End [V]']\n",
    "    Yf = d['Y End [V] ']\n",
    "    start = X0 + 1j * Y0\n",
    "    end = Xf + 1j * Yf\n",
    "    scan = end - start\n",
    "    scan_size = abs(scan)\n",
    "    x_tot = scan_size * 0.125\n",
    "    v_tip = x_tot / T\n",
    "\n",
    "    return Munch({'fs': fs, 'fx': fx, 'v_tip': v_tip, 'x_m': x_m, 'phi_t': phi_t})\n",
    "\n",
    "def workup_file(fh_or_fname, mod_direction, fir, invert=False,\n",
    "                x_m=None, plot_phase=True, iprint=0):\n",
    "    pm = pmefm.PMEFMEx(**_h5toPMEFM(fh_or_fname, mod_direction))\n",
    "    if x_m is not None:\n",
    "        pm.x_m = x_m\n",
    "    pm.fir_filter(fir_ac=fir, fir_dc=fir)\n",
    "    pm.auto_phase(invert=invert, iprint=iprint)\n",
    "    if plot_phase:\n",
    "        pm.plot_phase()\n",
    "    pm.output()\n",
    "    return pm\n",
    "\n",
    "\n",
    "def workup_dict(d, mod_direction, fir, replace_xm=True, plot_phase=True, iprint=0):\n",
    "    if replace_xm:\n",
    "        return OrderedDict(\n",
    "    (key, workup_file(fname, Mod.xy, fir, invert, float(key)/1000.0,\n",
    "                      plot_phase=plot_phase, iprint=iprint))\n",
    "        for (key, (fname, invert)) in d.items()\n",
    "            )\n",
    "    else:\n",
    "        return OrderedDict(\n",
    "    (key, workup_file(fname, Mod.xy, fir, invert,\n",
    "                      plot_phase=plot_phase, iprint=iprint))\n",
    "        for (key, (fname, invert)) in d.items()\n",
    "            )\n",
    "\n",
    "\n",
    "def plot_dict(pall, rcParams={'figure.figsize': (3.5, 3.5)}, samefig=False):\n",
    "    for i, pm in enumerate(pall.values()):\n",
    "        if i > 0 and samefig:\n",
    "            figax = (fig, axes)\n",
    "        else:\n",
    "            figax = None\n",
    "        fig, axes = pm.plot_output(rcParams=rcParams, figax=figax)\n",
    "        for ax in axes:\n",
    "            ax.grid(color='0.6', linestyle=\":\", zorder=0)\n",
    "        axes[1].set_ylim(-1.25, 0.35)\n",
    "        axes[0].legend()\n",
    "    \n",
    "    return fig, axes\n",
    "\n",
    "ks = 19772.0\n",
    "mpl.rc(\"font\", size=9)"
   ]
  },
  {
   "cell_type": "code",
   "execution_count": 2,
   "metadata": {
    "collapsed": true
   },
   "outputs": [],
   "source": [
    "fh = h5py.File('../data/KPFM-linescans/170222-1629DPh-BTBT-20V-scan-yx-45-nm-mod.h5', 'r')"
   ]
  },
  {
   "cell_type": "code",
   "execution_count": 3,
   "metadata": {
    "collapsed": true
   },
   "outputs": [],
   "source": [
    "d = _h5toPMEFM(fh, mod_direction=Mod.xy)"
   ]
  },
  {
   "cell_type": "code",
   "execution_count": 4,
   "metadata": {},
   "outputs": [
    {
     "name": "stdout",
     "output_type": "stream",
     "text": [
      "Response:\n",
      "f   mag       dB\n",
      "  0.000 1.000    0.000\n",
      "  0.550 0.983   -0.151\n",
      "  1.100 0.927   -0.656\n",
      "  4.400 0.095  -20.489\n",
      "  8.800 0.000 -101.829\n",
      "500.000 0.000 -266.720\n",
      "1000.000 0.000 -270.429\n",
      "9886.069 0.000 -344.218\n"
     ]
    }
   ],
   "source": [
    "fir = lockin.lock2(1e3, 1.1, 4.4, d.fs/d.v_tip)"
   ]
  },
  {
   "cell_type": "code",
   "execution_count": 5,
   "metadata": {
    "collapsed": true
   },
   "outputs": [],
   "source": [
    "yx = OrderedDict([\n",
    "    (0, ('../data/KPFM-linescans/170222-1623DPh-BTBT-20V-scan-yx-no-mod.h5', False)),\n",
    "    (15, ('../data/KPFM-linescans/170222-1625DPh-BTBT-20V-scan-yx-15-nm-mod.h5', True)),\n",
    "    (30, ('../data/KPFM-linescans/170222-1627DPh-BTBT-20V-scan-yx-30-nm-mod.h5', True)),\n",
    "    (45, ('../data/KPFM-linescans/170222-1629DPh-BTBT-20V-scan-yx-45-nm-mod.h5', True))\n",
    "])"
   ]
  },
  {
   "cell_type": "code",
   "execution_count": 6,
   "metadata": {},
   "outputs": [
    {
     "name": "stderr",
     "output_type": "stream",
     "text": [
      "/Users/ryandwyer/Documents/Programming/mypython/pmefm/pmefm.py:255: RuntimeWarning: divide by zero encountered in double_scalars\n",
      "  self.k0_dc = jn_zeros(0, 1)[0] / (2 * np.pi * x_m)\n",
      "/Users/ryandwyer/Documents/Programming/mypython/pmefm/pmefm.py:256: RuntimeWarning: divide by zero encountered in double_scalars\n",
      "  self.k0_ac = jn_zeros(1, 1)[0] / (2 * np.pi * x_m)\n",
      "/Users/ryandwyer/Documents/Programming/mypython/pmefm/pmefm.py:438: RuntimeWarning: divide by zero encountered in true_divide\n",
      "  self.E_mod = self.V_ac / self.x_m\n"
     ]
    }
   ],
   "source": [
    "p_yx = workup_dict(yx, Mod.xy, fir, plot_phase=False);"
   ]
  },
  {
   "cell_type": "code",
   "execution_count": 52,
   "metadata": {},
   "outputs": [
    {
     "data": {
      "image/png": "[encoded data removed]",
      "text/plain": [
       "<matplotlib.figure.Figure at 0x1247d2950>"
      ]
     },
     "metadata": {
      "image/png": {
       "height": 249,
       "width": 363
      }
     },
     "output_type": "display_data"
    }
   ],
   "source": [
    "colors = [plt.plot([0, 1], [i, i])[0].get_color() for i in xrange(6)]"
   ]
  },
  {
   "cell_type": "code",
   "execution_count": 8,
   "metadata": {
    "collapsed": true
   },
   "outputs": [],
   "source": [
    "p = p_yx[45]\n",
    "p0 = p_yx[0]"
   ]
  },
  {
   "cell_type": "code",
   "execution_count": 9,
   "metadata": {},
   "outputs": [
    {
     "name": "stdout",
     "output_type": "stream",
     "text": [
      "Response:\n",
      "f   mag       dB\n",
      "  0.000 1.000    0.000\n",
      "  2.250 1.000   -0.000\n",
      "  4.500 1.000   -0.000\n",
      "250.000 0.981   -0.166\n",
      "500.000 0.922   -0.703\n",
      "2000.000 0.110  -19.185\n",
      "4000.000 0.000 -101.138\n",
      "4096.000 0.000 -323.269\n"
     ]
    }
   ],
   "source": [
    "# Reduce the bandwidth slightly for plotting\n",
    "fir_decimate = lockin.lock2(4.5, 500, 2000, p.fs)\n",
    "phi_filt = signal.convolve(p.phi, fir_decimate, mode='same')\n",
    "phi0_filt = signal.convolve(p0.phi,fir_decimate, mode='same')\n",
    "mask = (4.5 < p.t) & (p.t <= 6)\n"
   ]
  },
  {
   "cell_type": "code",
   "execution_count": 11,
   "metadata": {
    "collapsed": true
   },
   "outputs": [],
   "source": [
    "phi_filt128 = phi_filt.reshape(-1, 128)\n",
    "Npts_each = phi_filt128.shape[0]\n",
    "\n",
    "phi_filt_red = np.empty((Npts_each*2), dtype=float)\n",
    "phi_filt_red[0::2] = phi_filt128.max(axis=1)\n",
    "phi_filt_red[1::2] = phi_filt128.min(axis=1)\n",
    "t_red = p.t[::64]"
   ]
  },
  {
   "cell_type": "code",
   "execution_count": 53,
   "metadata": {},
   "outputs": [
    {
     "data": {
      "text/plain": [
       "[<matplotlib.lines.Line2D at 0x125403850>]"
      ]
     },
     "execution_count": 53,
     "metadata": {},
     "output_type": "execute_result"
    },
    {
     "data": {
      "image/png": "[encoded data removed]",
      "text/plain": [
       "<matplotlib.figure.Figure at 0x124711dd0>"
      ]
     },
     "metadata": {
      "image/png": {
       "height": 72,
       "width": 90
      }
     },
     "output_type": "display_data"
    }
   ],
   "source": [
    "fig, ax2 = plt.subplots(figsize=(1*0.58/0.77, 0.735))\n",
    "\n",
    "mpl.rcParams['mathtext.fontset'] ='dejavusans'\n",
    "\n",
    "scale = 1\n",
    "\n",
    "\n",
    "\n",
    "ax2.set_xlim(4.7, 5.5)\n",
    "# ax2.grid(color='1', zorder=0)\n",
    "ax2.set_axis_off()\n",
    "\n",
    "ax2.set_ylim(0.19, 0.252)\n",
    "# ax2.axvline(5, -0.02, 0.02, color='k', linewidth=0.5)\n",
    "# ax2.axvline(6, -0.02, 0.02, color='k', linewidth=0.5)\n",
    "\n",
    "bg = '#0f5484'\n",
    "\n",
    "ax2.plot(p.t[mask][::4], phi_filt[mask][::4]*scale, color=colors[4],\n",
    "         alpha=1, zorder=3, linewidth=0.5)\n",
    "l2, = ax2.plot(p.t[mask][::4],\n",
    "         (p.phi_dc[mask] + 0.05 * p.E_mod[mask] * np.cos(2*np.pi*4.5*p.t[mask]-p.mb[1]))[::4] * scale,\n",
    "         linewidth=1,\n",
    "         zorder=5,\n",
    "         color=\"#ffa659\")\n",
    "\n",
    "ax2.plot(p.t[mask][::4], p.phi_dc[mask][::4]*scale, ':', zorder=4, color=l2.get_color(),\n",
    "       linewidth=1)"
   ]
  },
  {
   "cell_type": "code",
   "execution_count": 55,
   "metadata": {
    "collapsed": true
   },
   "outputs": [],
   "source": [
    "fig.savefig('../figs/100-inset-tall.pdf', bbox_inches='tight', transparent=True)"
   ]
  },
  {
   "cell_type": "code",
   "execution_count": 49,
   "metadata": {
    "collapsed": true
   },
   "outputs": [],
   "source": [
    "!open ../figs/100-inset.pdf"
   ]
  },
  {
   "cell_type": "code",
   "execution_count": null,
   "metadata": {
    "collapsed": true
   },
   "outputs": [],
   "source": []
  }
 ],
 "metadata": {
  "anaconda-cloud": {},
  "kernelspec": {
   "display_name": "Python [default]",
   "language": "python",
   "name": "python2"
  },
  "language_info": {
   "codemirror_mode": {
    "name": "ipython",
    "version": 2
   },
   "file_extension": ".py",
   "mimetype": "text/x-python",
   "name": "python",
   "nbconvert_exporter": "python",
   "pygments_lexer": "ipython2",
   "version": "2.7.12"
  }
 },
 "nbformat": 4,
 "nbformat_minor": 1
}
