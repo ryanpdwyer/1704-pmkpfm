{
 "cells": [
  {
   "cell_type": "code",
   "execution_count": 2,
   "metadata": {
    "collapsed": true
   },
   "outputs": [],
   "source": [
    "%matplotlib inline\n",
    "%config InlineBackend.figure_format = 'retina'\n",
    "from __future__ import division, print_function\n",
    "import matplotlib as mpl\n",
    "import matplotlib.pyplot as plt\n",
    "from matplotlib import patches\n",
    "import numpy as np\n",
    "import six\n",
    "from scipy import signal, linalg\n",
    "import h5py\n",
    "import glob\n",
    "import pmefm\n",
    "import lockin\n",
    "from freqdemod import h5ls\n",
    "from collections import OrderedDict\n",
    "from enum import Enum\n",
    "from munch import Munch\n",
    "from decorator import decorator\n",
    "from kpfm.util import h5filename\n",
    "\n",
    "Mod = Enum('Mod', 'x y xy')\n",
    "\n",
    "@h5filename\n",
    "def _h5toPMEFM(f, mod_direction):\n",
    "    \"\"\"For today's data (2017-02-22), note that the gains are all equal\"\"\"\n",
    "    phi_t = f['CPD'][:]\n",
    "    fs = f.attrs['Inputs.Scan rate [Hz]']\n",
    "    dt = 1/fs\n",
    "    T = phi_t.size * dt\n",
    "    fx = f.attrs['Inputs.Pos Mod Freq (Hz)']\n",
    "    if mod_direction == Mod.xy:\n",
    "        scale_factor = 2\n",
    "    else:\n",
    "        scale_factor = np.sqrt(2)\n",
    "    x_m = f.attrs['Inputs.Pos Mod rms (V)'] * scale_factor * 15 * 0.125 # 125 nm/V\n",
    "    d = {key.replace(\"Inputs.\", \"\"): val for key, val in fh.attrs.items()}\n",
    "    X0 = d['X Start [V]']\n",
    "    Y0 = d['Y Start [V] ']\n",
    "    Xf = d['X End [V]']\n",
    "    Yf = d['Y End [V] ']\n",
    "    start = X0 + 1j * Y0\n",
    "    end = Xf + 1j * Yf\n",
    "    scan = end - start\n",
    "    scan_size = abs(scan)\n",
    "    x_tot = scan_size * 0.125  # 125 nm / V\n",
    "    v_tip = x_tot / T\n",
    "\n",
    "    return Munch({'fs': fs, 'fx': fx, 'v_tip': v_tip, 'x_m': x_m, 'phi_t': phi_t})\n",
    "\n",
    "def workup_file(fh_or_fname, mod_direction, fir, invert=False,\n",
    "                x_m=None, plot_phase=True, iprint=0):\n",
    "    pm = pmefm.PMEFMEx(**_h5toPMEFM(fh_or_fname, mod_direction))\n",
    "    if x_m is not None:\n",
    "        pm.x_m = x_m\n",
    "    pm.fir_filter(fir_ac=fir, fir_dc=fir)\n",
    "    pm.auto_phase(invert=invert, iprint=iprint)\n",
    "    if plot_phase:\n",
    "        pm.plot_phase()\n",
    "    pm.output()\n",
    "    return pm\n",
    "\n",
    "\n",
    "def workup_dict(d, mod_direction, fir, replace_xm=True, plot_phase=True, iprint=0):\n",
    "    if replace_xm:\n",
    "        return OrderedDict(\n",
    "    (key, workup_file(fname, Mod.xy, fir, invert, float(key)/1000.0,\n",
    "                      plot_phase=plot_phase, iprint=iprint))\n",
    "        for (key, (fname, invert)) in d.items()\n",
    "            )\n",
    "    else:\n",
    "        return OrderedDict(\n",
    "    (key, workup_file(fname, Mod.xy, fir, invert,\n",
    "                      plot_phase=plot_phase, iprint=iprint))\n",
    "        for (key, (fname, invert)) in d.items()\n",
    "            )\n",
    "\n",
    "\n",
    "def plot_dict(pall, rcParams={'figure.figsize': (3.5, 3.5)}, samefig=False):\n",
    "    for i, pm in enumerate(pall.values()):\n",
    "        if i > 0 and samefig:\n",
    "            figax = (fig, axes)\n",
    "        else:\n",
    "            figax = None\n",
    "        fig, axes = pm.plot_output(rcParams=rcParams, figax=figax)\n",
    "        for ax in axes:\n",
    "            ax.grid(color='0.6', linestyle=\":\", zorder=0)\n",
    "        axes[1].set_ylim(-1.25, 0.35)\n",
    "        axes[0].legend()\n",
    "    \n",
    "    return fig, axes\n",
    "\n",
    "def align_labels(axes_list,lim, axis='y'):\n",
    "    for ax in axes_list:\n",
    "        t = ax.yaxis.label.get_transform()\n",
    "        x,y = ax.yaxis.label.get_position()\n",
    "        ax.yaxis.set_label_coords(lim,y,t)\n",
    "\n",
    "ks = 19772.0\n",
    "plt.rc('font', size=9)\n",
    "plt.rc('text', usetex=False)"
   ]
  },
  {
   "cell_type": "code",
   "execution_count": 3,
   "metadata": {
    "collapsed": true
   },
   "outputs": [],
   "source": [
    "fh = h5py.File('../data/KPFM-linescans/170222-1511DPh-BTBT-20V-scan-y-45-nm-y-mod.h5', 'r')"
   ]
  },
  {
   "cell_type": "code",
   "execution_count": 4,
   "metadata": {
    "collapsed": true
   },
   "outputs": [],
   "source": [
    "d = _h5toPMEFM(fh, mod_direction=Mod.xy)"
   ]
  },
  {
   "cell_type": "code",
   "execution_count": 5,
   "metadata": {},
   "outputs": [
    {
     "name": "stdout",
     "output_type": "stream",
     "text": [
      "Response:\n",
      "f   mag       dB\n",
      "   0.000 1.000    0.000\n",
      "   0.550 0.983   -0.151\n",
      "   1.100 0.927   -0.656\n",
      "   4.400 0.095  -20.488\n",
      "   8.800 0.000 -101.830\n",
      " 500.000 0.000 -270.187\n",
      "1000.000 0.000 -270.321\n",
      "11037.642 0.000 -345.562\n"
     ]
    }
   ],
   "source": [
    "fir = lockin.lock2(1e3, 1.1, 4.4, d.fs/d.v_tip)"
   ]
  },
  {
   "cell_type": "code",
   "execution_count": 6,
   "metadata": {},
   "outputs": [
    {
     "data": {
      "image/png": "[encoded data removed]",
      "text/plain": [
       "<matplotlib.figure.Figure at 0x106aee910>"
      ]
     },
     "metadata": {
      "image/png": {
       "height": 249,
       "width": 385
      }
     },
     "output_type": "display_data"
    }
   ],
   "source": [
    "colors = [plt.plot(0,0)[0].get_color() for i in xrange(6)]"
   ]
  },
  {
   "cell_type": "code",
   "execution_count": 7,
   "metadata": {
    "collapsed": true
   },
   "outputs": [],
   "source": [
    "ymod = OrderedDict([\n",
    "    (0, ('../data/KPFM-linescans/170222-1512DPh-BTBT-20V-scan-y-no-mod.h5', False)),\n",
    "    (15, ('../data/KPFM-linescans/170222-1507DPh-BTBT-20V-scan-y-15-nm-y-mod.h5', True)),\n",
    "    (30, ('../data/KPFM-linescans/170222-1508DPh-BTBT-20V-scan-y-30-nm-y-mod.h5', False)),\n",
    "    (45, ('../data/KPFM-linescans/170222-1511DPh-BTBT-20V-scan-y-45-nm-y-mod.h5', False))\n",
    "])"
   ]
  },
  {
   "cell_type": "code",
   "execution_count": 8,
   "metadata": {},
   "outputs": [
    {
     "name": "stderr",
     "output_type": "stream",
     "text": [
      "/Users/ryandwyer/Documents/Research/workups/1704-pmkpfm/src/lockin/pmefm.py:255: RuntimeWarning: divide by zero encountered in double_scalars\n",
      "  self.k0_dc = jn_zeros(0, 1)[0] / (2 * np.pi * x_m)\n",
      "/Users/ryandwyer/Documents/Research/workups/1704-pmkpfm/src/lockin/pmefm.py:256: RuntimeWarning: divide by zero encountered in double_scalars\n",
      "  self.k0_ac = jn_zeros(1, 1)[0] / (2 * np.pi * x_m)\n",
      "/Users/ryandwyer/Documents/Research/workups/1704-pmkpfm/src/lockin/pmefm.py:438: RuntimeWarning: divide by zero encountered in true_divide\n",
      "  self.E_mod = self.V_ac / self.x_m\n"
     ]
    }
   ],
   "source": [
    "py = workup_dict(ymod, Mod.y, fir, plot_phase=False)"
   ]
  },
  {
   "cell_type": "code",
   "execution_count": 29,
   "metadata": {},
   "outputs": [
    {
     "data": {
      "text/plain": [
       "[<matplotlib.axis.YTick at 0x13fcc0e90>,\n",
       " <matplotlib.axis.YTick at 0x13fccba90>,\n",
       " <matplotlib.axis.YTick at 0x13fd34dd0>]"
      ]
     },
     "execution_count": 29,
     "metadata": {},
     "output_type": "execute_result"
    },
    {
     "data": {
      "image/png": "[encoded data removed]",
      "text/plain": [
       "<matplotlib.figure.Figure at 0x13aafd810>"
      ]
     },
     "metadata": {
      "image/png": {
       "height": 221,
       "width": 228
      }
     },
     "output_type": "display_data"
    }
   ],
   "source": [
    "plt.rc('font', size=9)\n",
    "plt.rc('text', usetex=False)\n",
    "# plt.rcParams.update({'mathtext.fontset':'cm'})\n",
    "\n",
    "fig = plt.figure(figsize=(3.2, 3.2))\n",
    "gs = mpl.gridspec.GridSpec(2, 1, height_ratios=(1, 1.9))\n",
    "gs.update(hspace=0.063)\n",
    "ax2 = plt.subplot(gs[0], facecolor='0.97')\n",
    "ax1 = plt.subplot(gs[1], facecolor='0.97', sharex=ax2)\n",
    "# ax1.set_axisbelow(True)\n",
    "# ax2.set_axisbelow(True)\n",
    "ax1.grid(which='both', color='1', linestyle='-', linewidth=0.75)\n",
    "ax2.grid(which='both', color='1', linestyle='-', linewidth=0.75)\n",
    "# plt.setp(ax1.get_xticklabels(), visible=False)\n",
    "efm = py[0]\n",
    "dec = 40\n",
    "dec_pts = 160\n",
    "i = dec_pts*dec//3 * 2\n",
    "scale = 3.5\n",
    "ax1.plot(efm('x_dc')[::dec], efm('E_dc')[::dec], '0.2', linewidth=1.1)\n",
    "ax1.plot(efm('x_dc')[::(dec_pts*dec)],\n",
    "             efm('E_dc')[::(dec_pts*dec)],\n",
    "             linewidth=0, marker='s', markersize=1.2*scale, mew=0, alpha=1, color='0.2')\n",
    "ax2.plot(efm('x_dc')[::dec], efm('phi_dc')[::dec], '0.2', linewidth=1.1)\n",
    "ax2.plot(efm('x_dc')[::(dec_pts*dec*2)], efm('phi_dc')[::(dec_pts*dec*2)], '0.2',\n",
    "         linewidth=0, marker='s', markersize=1.35*scale, mew=0, alpha=1, color='0.2')\n",
    "\n",
    "c1 = u'#9467bd'\n",
    "c2 = '#ff7f0e'\n",
    "for efm in [py[i] for i in [30]]:\n",
    "    line, = ax1.plot(efm('x_dc')[::dec], efm('E_dc')[::dec], alpha=1, linewidth=1, color=c1)\n",
    "    ax1.plot(efm('x_dc')[i::(dec_pts*dec)],\n",
    "             efm('E_dc')[i::(dec_pts*dec)],\n",
    "             linewidth=0, marker='^', mew=0, markersize=1.35*scale, alpha=1, color=line.get_color())\n",
    "    line2, = ax1.plot(efm('x_dc')[::dec], efm('E_mod')[::dec], alpha=1, linewidth=0.9, color=c2)\n",
    "    ax1.plot(efm('x_dc')[i::(dec_pts*dec)],\n",
    "             efm('E_mod')[i::(dec_pts*dec)],\n",
    "             linewidth=0, marker='.', markersize=2.1*scale, mew=0, alpha=1, color=line2.get_color())\n",
    "\n",
    "    ax2.plot(efm('x_dc')[::dec], efm('phi_dc')[::dec],\n",
    "             alpha=1, linewidth=0.8, color=c1)\n",
    "    ax2.plot(efm('x_dc')[i::(dec_pts*dec*2)], efm('phi_dc')[i::(dec_pts*dec*2)], alpha=1,\n",
    "             linewidth=0, marker='^', mew=0, markersize=1.35*scale, color=c1)\n",
    "\n",
    "    \n",
    "ax1.set_ylabel(u\"$E_{x}$ [V/µm]\")\n",
    "ax1.set_xlabel(u\"Position $x$ [µm]\")\n",
    "ax2.set_ylabel(u\"$\\\\phi$ [V]\")\n",
    "align_labels([ax1, ax2], 12)\n",
    "ax1.set_xlim(0.4, 11.6)\n",
    "ax2.set_xlim(0.4, 11.6)\n",
    "ax1.set_xticks(np.arange(2.5, 11.5, 2.5))\n",
    "ax2.set_xticks(np.arange(2.5, 11.6, 2.5))\n",
    "ax1.set_ylim(-0.7, 2.2)\n",
    "ax1.set_yticks(np.arange(0, 2.1, 1))\n",
    "# ax1.set_yticklabels(['0', '1', '2'])\n",
    "ax1.set_yticks(np.arange(-0.5, 1.6, 1), minor=True)"
   ]
  },
  {
   "cell_type": "code",
   "execution_count": 30,
   "metadata": {
    "collapsed": true
   },
   "outputs": [],
   "source": [
    "fig.savefig('../figs/02cd-pm-parallel.pdf', bbox_inches='tight', pad_inches=0.2)"
   ]
  },
  {
   "cell_type": "code",
   "execution_count": 25,
   "metadata": {
    "collapsed": true
   },
   "outputs": [],
   "source": [
    "!open ../figs/02cd-pm-parallel.pdf"
   ]
  }
 ],
 "metadata": {
  "anaconda-cloud": {},
  "kernelspec": {
   "display_name": "Python [default]",
   "language": "python",
   "name": "python2"
  },
  "language_info": {
   "codemirror_mode": {
    "name": "ipython",
    "version": 2
   },
   "file_extension": ".py",
   "mimetype": "text/x-python",
   "name": "python",
   "nbconvert_exporter": "python",
   "pygments_lexer": "ipython2",
   "version": "2.7.12"
  }
 },
 "nbformat": 4,
 "nbformat_minor": 1
}
