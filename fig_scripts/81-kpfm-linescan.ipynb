{
 "cells": [
  {
   "cell_type": "code",
   "execution_count": null,
   "metadata": {
    "collapsed": true
   },
   "outputs": [],
   "source": [
    "%matplotlib inline\n",
    "%config InlineBackend.figure_format = 'retina'\n",
    "from __future__ import division, print_function\n",
    "import matplotlib as mpl\n",
    "import matplotlib.pyplot as plt\n",
    "from matplotlib import patches\n",
    "import numpy as np\n",
    "import six\n",
    "from scipy import signal, linalg\n",
    "import h5py\n",
    "import glob\n",
    "import pmefm\n",
    "import lockin\n",
    "from freqdemod import h5ls\n",
    "from collections import OrderedDict\n",
    "from enum import Enum\n",
    "from munch import Munch\n",
    "from decorator import decorator\n",
    "from kpfm.util import h5filename\n",
    "from sigutils import log_bins\n",
    "\n",
    "Mod = Enum('Mod', 'x y xy')\n",
    "\n",
    "@h5filename\n",
    "def _h5toPMEFM(f, mod_direction):\n",
    "    \"\"\"For today's data (2017-02-22), note that the gains are all equal\"\"\"\n",
    "    phi_t = f['CPD'][:]\n",
    "    fs = f.attrs['Inputs.Scan rate [Hz]']\n",
    "    dt = 1/fs\n",
    "    T = phi_t.size * dt\n",
    "    fx = f.attrs['Inputs.Pos Mod Freq (Hz)']\n",
    "    if mod_direction == Mod.xy:\n",
    "        scale_factor = 2\n",
    "    else:\n",
    "        scale_factor = np.sqrt(2)\n",
    "    x_m = f.attrs['Inputs.Pos Mod rms (V)'] * scale_factor * 15 * 0.125 # 125 nm/V\n",
    "    d = {key.replace(\"Inputs.\", \"\"): val for key, val in fh.attrs.items()}\n",
    "    X0 = d['X Start [V]']\n",
    "    Y0 = d['Y Start [V] ']\n",
    "    Xf = d['X End [V]']\n",
    "    Yf = d['Y End [V] ']\n",
    "    start = X0 + 1j * Y0\n",
    "    end = Xf + 1j * Yf\n",
    "    scan = end - start\n",
    "    scan_size = abs(scan)\n",
    "    x_tot = scan_size * 0.125\n",
    "    v_tip = x_tot / T\n",
    "\n",
    "    return Munch({'fs': fs, 'fx': fx, 'v_tip': v_tip, 'x_m': x_m, 'phi_t': phi_t})\n",
    "\n",
    "def workup_file(fh_or_fname, mod_direction, fir, invert=False,\n",
    "                x_m=None, plot_phase=True, iprint=0):\n",
    "    pm = pmefm.PMEFMEx(**_h5toPMEFM(fh_or_fname, mod_direction))\n",
    "    if x_m is not None:\n",
    "        pm.x_m = x_m\n",
    "    pm.fir_filter(fir_ac=fir, fir_dc=fir)\n",
    "    pm.auto_phase(invert=invert, iprint=iprint)\n",
    "    if plot_phase:\n",
    "        pm.plot_phase()\n",
    "    pm.output()\n",
    "    return pm\n",
    "\n",
    "\n",
    "def workup_dict(d, mod_direction, fir, replace_xm=True, plot_phase=True, iprint=0):\n",
    "    if replace_xm:\n",
    "        return OrderedDict(\n",
    "    (key, workup_file(fname, Mod.xy, fir, invert, float(key)/1000.0,\n",
    "                      plot_phase=plot_phase, iprint=iprint))\n",
    "        for (key, (fname, invert)) in d.items()\n",
    "            )\n",
    "    else:\n",
    "        return OrderedDict(\n",
    "    (key, workup_file(fname, Mod.xy, fir, invert,\n",
    "                      plot_phase=plot_phase, iprint=iprint))\n",
    "        for (key, (fname, invert)) in d.items()\n",
    "            )\n",
    "\n",
    "\n",
    "def plot_dict(pall, rcParams={'figure.figsize': (3.5, 3.5)}, samefig=False):\n",
    "    for i, pm in enumerate(pall.values()):\n",
    "        if i > 0 and samefig:\n",
    "            figax = (fig, axes)\n",
    "        else:\n",
    "            figax = None\n",
    "        fig, axes = pm.plot_output(rcParams=rcParams, figax=figax)\n",
    "        for ax in axes:\n",
    "            ax.grid(color='0.6', linestyle=\":\", zorder=0)\n",
    "        axes[1].set_ylim(-1.25, 0.35)\n",
    "        axes[0].legend()\n",
    "    \n",
    "    return fig, axes\n",
    "\n",
    "def align_labels(axes_list,lim, axis='y'):\n",
    "    for ax in axes_list:\n",
    "        t = ax.yaxis.label.get_transform()\n",
    "        x,y = ax.yaxis.label.get_position()\n",
    "        ax.yaxis.set_label_coords(lim,y,t)\n",
    "\n",
    "ks = 19772.0\n",
    "mpl.rc(\"font\", size=9)"
   ]
  },
  {
   "cell_type": "code",
   "execution_count": null,
   "metadata": {
    "collapsed": true
   },
   "outputs": [],
   "source": [
    "fh = h5py.File('../data/KPFM-linescans/170222-1511DPh-BTBT-20V-scan-y-45-nm-y-mod.h5', 'r')"
   ]
  },
  {
   "cell_type": "code",
   "execution_count": null,
   "metadata": {
    "collapsed": true
   },
   "outputs": [],
   "source": [
    "d = _h5toPMEFM(fh, mod_direction=Mod.xy)"
   ]
  },
  {
   "cell_type": "code",
   "execution_count": null,
   "metadata": {},
   "outputs": [],
   "source": [
    "fir = lockin.lock2(1e3, 1.1, 4.4, d.fs/d.v_tip)"
   ]
  },
  {
   "cell_type": "code",
   "execution_count": null,
   "metadata": {
    "collapsed": true
   },
   "outputs": [],
   "source": [
    "fh2 = h5py.File('../data/KPFM-linescans/170217-1620DPh-BTBT-20V-no-mod-in-x-low-feedback.h5', 'r')"
   ]
  },
  {
   "cell_type": "code",
   "execution_count": null,
   "metadata": {
    "collapsed": true
   },
   "outputs": [],
   "source": [
    "fh3 = h5py.File('../data/KPFM-linescans/170217-1601DPh-BTBT-20V-no-mod.h5', 'r')\n",
    "fh4 = h5py.File('../data/KPFM-linescans/170224-1949DPh-BTBT-no-mod-5V-drain.h5', 'r')"
   ]
  },
  {
   "cell_type": "code",
   "execution_count": null,
   "metadata": {},
   "outputs": [],
   "source": [
    "nu_s / 48"
   ]
  },
  {
   "cell_type": "code",
   "execution_count": null,
   "metadata": {},
   "outputs": [],
   "source": [
    "N = fh4['CPD'][:].size\n",
    "CPD = fh4['CPD'][:]\n",
    "X = (105*0.125*2)\n",
    "nu_s = N/X\n",
    "dx = X/N\n",
    "x = np.arange(fh4['CPD'][:].size) * dx\n",
    "Ndec = 416\n",
    "plt.plot(x[:N//2], CPD[:N//2])"
   ]
  },
  {
   "cell_type": "code",
   "execution_count": null,
   "metadata": {},
   "outputs": [],
   "source": [
    "from sigutils import magtime_z\n",
    "fir = lockin.lock2(100, 3,  12, fs=nu_s)\n",
    "\n",
    "magtime_z(fir, fs=nu_s, dB=False, freq_log=True, freq_lim=(0.1, 100))"
   ]
  },
  {
   "cell_type": "code",
   "execution_count": null,
   "metadata": {
    "collapsed": true
   },
   "outputs": [],
   "source": [
    "x_filt = signal.fftconvolve(x,fir, mode='same')\n",
    "cpd_filt = signal.fftconvolve(CPD, fir, mode='same')\n",
    "m = slice(0, x_filt.size//2, Ndec)"
   ]
  },
  {
   "cell_type": "code",
   "execution_count": null,
   "metadata": {},
   "outputs": [],
   "source": [
    "plt.plot(x_filt[m], cpd_filt[m])"
   ]
  },
  {
   "cell_type": "code",
   "execution_count": null,
   "metadata": {
    "collapsed": true
   },
   "outputs": [],
   "source": [
    "import ipywidgets"
   ]
  },
  {
   "cell_type": "code",
   "execution_count": null,
   "metadata": {
    "collapsed": true
   },
   "outputs": [],
   "source": [
    "from scipy.interpolate import interp1d"
   ]
  },
  {
   "cell_type": "code",
   "execution_count": null,
   "metadata": {
    "collapsed": true
   },
   "outputs": [],
   "source": [
    "def ck(f, x0, A, k):\n",
    "    out = integrate.quad(lambda theta: f(x0 + A * np.cos(theta)) * np.cos(theta*k), -np.pi, np.pi)\n",
    "    if k == 0:\n",
    "        return out[0]/(2*np.pi)\n",
    "    else:\n",
    "        return out[0]/np.pi"
   ]
  },
  {
   "cell_type": "code",
   "execution_count": null,
   "metadata": {
    "collapsed": true
   },
   "outputs": [],
   "source": [
    "from scipy import interpolate\n",
    "from scipy import integrate\n",
    "from scipy.special import chebyt"
   ]
  },
  {
   "cell_type": "code",
   "execution_count": null,
   "metadata": {
    "collapsed": true
   },
   "outputs": [],
   "source": [
    "    x0= 3.58\n",
    "    A = 0.1\n",
    "    zoom = (x_filt[m] > (x0 - A*1.1)) & (x_filt[m] < (x0 + A*1.1))\n",
    "    zoom_interp = (x_filt[m] > (x0 - 2*A)) & (x_filt[m] < (x0 + 2*A))\n",
    "    x = np.linspace(x0-A, x0+A)\n",
    "    f = interpolate.UnivariateSpline(x_filt[m][zoom_interp], cpd_filt[m][zoom_interp], k=2, s=0)\n",
    "    ks = np.arange(5)\n",
    "    cs = [ck(f, x0, A, k) for k in ks]\n",
    "    cts = np.array([c*chebyt(k)((x-x0)/A) for k, c in enumerate(cs)])"
   ]
  },
  {
   "cell_type": "code",
   "execution_count": null,
   "metadata": {},
   "outputs": [],
   "source": [
    "plt.plot(np.cumsum(cts, axis=0)[0])\n",
    "plt.plot(np.cumsum(cts, axis=0)[2])"
   ]
  },
  {
   "cell_type": "code",
   "execution_count": null,
   "metadata": {
    "collapsed": true
   },
   "outputs": [],
   "source": []
  },
  {
   "cell_type": "code",
   "execution_count": null,
   "metadata": {
    "collapsed": true
   },
   "outputs": [],
   "source": [
    "def zoomed(x0, A):\n",
    "    zoom = (x_filt[m] > (x0 - A*1.1)) & (x_filt[m] < (x0 + A*1.1))\n",
    "    zoom_interp = (x_filt[m] > (x0 - 2*A)) & (x_filt[m] < (x0 + 2*A))\n",
    "    x = np.linspace(x0-A, x0+A)\n",
    "    f = interpolate.UnivariateSpline(x_filt[m][zoom_interp], cpd_filt[m][zoom_interp], k=2, s=0)\n",
    "    ks = np.arange(3)\n",
    "    cs = [ck(f, x0, A, k) for k in ks]\n",
    "    \n",
    "    cts = np.array([c*chebyt(k)((x-x0)/A) for k, c in enumerate(cs)])\n",
    "    \n",
    "    plt.axvline(x0, color='0.7', linestyle=\":\", zorder=0)\n",
    "    plt.axhline(f(x0), color='0.7', linestyle=\":\", zorder=0)\n",
    "    plt.plot(x, f(x))\n",
    "    plt.plot(x[20:30], f.derivative()(x0)*(x[20:30]-x0) + f(x0),\n",
    "            zorder=10)\n",
    "    plt.plot(x[20:30], 0.5*f.derivative(2)(x0)*(x[20:30]-x0)**2+f.derivative()(x0)*(x[20:30]-x0) + f(x0),\n",
    "            zorder=9)\n",
    "    plt.plot(x_filt[m][zoom], cpd_filt[m][zoom], 'o', mew=0)\n",
    "    cts_polys = np.cumsum(cts, axis=0)\n",
    "    for row in cts_polys[1:]:\n",
    "        plt.plot(x, row)\n",
    "    \n",
    "    print(f.derivative()(x0))\n",
    "    print(cs[1]/A)\n",
    "    plt.show()"
   ]
  },
  {
   "cell_type": "markdown",
   "metadata": {},
   "source": [
    "# Assume a linear approximation between data points"
   ]
  },
  {
   "cell_type": "code",
   "execution_count": null,
   "metadata": {},
   "outputs": [],
   "source": [
    "ipywidgets.interact(zoomed, x0=(0, 10, 0.01), A=(0.015, 0.2, 0.015))"
   ]
  },
  {
   "cell_type": "code",
   "execution_count": null,
   "metadata": {},
   "outputs": [],
   "source": []
  },
  {
   "cell_type": "code",
   "execution_count": null,
   "metadata": {
    "collapsed": true
   },
   "outputs": [],
   "source": [
    "# p0 = pmefm.PMEFMEx(**_h5toPMEFM('../data/KPFM-linescans/170217-1601DPh-BTBT-20V-no-mod.h5',\n",
    "#                                 mod_direction=Mod.xy))\n"
   ]
  },
  {
   "cell_type": "code",
   "execution_count": null,
   "metadata": {
    "collapsed": true
   },
   "outputs": [],
   "source": [
    "CPDfreq, CPD = signal.periodogram(fh4['CPD'][:]*1e3, (105*0.125*2)*fh4.attrs['Inputs.Scan rate [Hz]'])"
   ]
  },
  {
   "cell_type": "code",
   "execution_count": null,
   "metadata": {},
   "outputs": [],
   "source": [
    "nus = (105*0.125*2)*fh4.attrs['Inputs.Scan rate [Hz]']\n",
    "print(nus)"
   ]
  },
  {
   "cell_type": "code",
   "execution_count": null,
   "metadata": {},
   "outputs": [],
   "source": [
    "CPDfreqa, CPDa = log_bins(CPDfreq, abs(CPD), r=1.07)\n",
    "plt.loglog(CPDfreqa, CPDa)\n"
   ]
  },
  {
   "cell_type": "code",
   "execution_count": null,
   "metadata": {
    "collapsed": true
   },
   "outputs": [],
   "source": [
    "# fh = h5py.File('../data/KPFM-linescans/170217-', 'r')"
   ]
  },
  {
   "cell_type": "code",
   "execution_count": null,
   "metadata": {
    "collapsed": true
   },
   "outputs": [],
   "source": [
    "ymod = OrderedDict([\n",
    "    (0, ('../data/KPFM-linescans/170222-1512DPh-BTBT-20V-scan-y-no-mod.h5', False)),\n",
    "    (15, ('../data/KPFM-linescans/170222-1507DPh-BTBT-20V-scan-y-15-nm-y-mod.h5', True)),\n",
    "    (30, ('../data/KPFM-linescans/170222-1508DPh-BTBT-20V-scan-y-30-nm-y-mod.h5', False)),\n",
    "    (45, ('../data/KPFM-linescans/170222-1511DPh-BTBT-20V-scan-y-45-nm-y-mod.h5', False))\n",
    "])"
   ]
  },
  {
   "cell_type": "code",
   "execution_count": null,
   "metadata": {},
   "outputs": [],
   "source": [
    "py = workup_dict(ymod, Mod.y, fir, plot_phase=False)"
   ]
  },
  {
   "cell_type": "code",
   "execution_count": null,
   "metadata": {},
   "outputs": [],
   "source": [
    "plt.rc('font', size=9)\n",
    "plt.rc('text', usetex=False)\n",
    "# plt.rcParams.update({'mathtext.fontset':'cm'})\n",
    "\n",
    "fig, ax = plt.subplots(figsize=(3, 2.5))\n",
    "ax.grid(which='both', color='1', linestyle='-', linewidth=0.75)\n",
    "efm = py[0]\n",
    "dec = 40\n",
    "dec_pts = 160\n",
    "i = dec_pts*dec//3 * 2\n",
    "scale = 3.5\n",
    "ax.plot(efm.x_dc[::dec], efm.phi[::dec], linewidth=1.1)\n",
    "ax.plot(efm.x_dc[::dec], fh2['CPD'][:][::dec], linewidth=1.1)\n",
    "ax.plot(efm.x_dc[::dec], fh3['CPD'][:][::dec], linewidth=1.1)"
   ]
  },
  {
   "cell_type": "code",
   "execution_count": null,
   "metadata": {
    "collapsed": true
   },
   "outputs": [],
   "source": [
    "dx = np.mean(np.gradient(efm('x_dc')))\n",
    "# dt = np.mean(np.gradient(efm('t')))\n",
    "freq, PHI = signal.periodogram(efm.phi*1e3, fs=efm.x_dc[-1]/efm.dt, window='blackman')"
   ]
  },
  {
   "cell_type": "code",
   "execution_count": null,
   "metadata": {},
   "outputs": [],
   "source": [
    "efm.x_dc[-1]/efm.dt"
   ]
  },
  {
   "cell_type": "code",
   "execution_count": null,
   "metadata": {},
   "outputs": [],
   "source": [
    "efm.phi.size"
   ]
  },
  {
   "cell_type": "code",
   "execution_count": null,
   "metadata": {
    "collapsed": true
   },
   "outputs": [],
   "source": [
    "fh4['CPD']"
   ]
  },
  {
   "cell_type": "code",
   "execution_count": null,
   "metadata": {
    "collapsed": true
   },
   "outputs": [],
   "source": [
    "dx = np.mean(np.gradient(efm('x_dc')))\n",
    "# dt = np.mean(np.gradient(efm('t')))\n",
    "\n",
    "freq2, PHI2 = signal.periodogram(fh2['CPD'][:]*1e3, fs=efm.x_dc[-1]/efm.dt, window='blackman')"
   ]
  },
  {
   "cell_type": "code",
   "execution_count": null,
   "metadata": {
    "collapsed": true
   },
   "outputs": [],
   "source": [
    "vt = 11.9 / 32"
   ]
  },
  {
   "cell_type": "code",
   "execution_count": null,
   "metadata": {},
   "outputs": [],
   "source": [
    "plt.rc('font', size=9)\n",
    "plt.rc('text', usetex=False)\n",
    "# plt.rcParams.update({'mathtext.fontset':'cm'})\n",
    "\n",
    "fig, ax = plt.subplots(figsize=(3, 2.5))\n",
    "ax.grid(which='both', color='1', linestyle='-', linewidth=0.75)\n",
    "efm = py[0]\n",
    "dec = 40\n",
    "dec_pts = 160\n",
    "i = dec_pts*dec//3 * 2\n",
    "scale = 3.5\n",
    "f, phi = log_bins(freq[1:], abs(PHI)[1:], 1.07)\n",
    "f2, phi2 = log_bins(freq2[1:], abs(PHI2)[1:], 1.07)\n",
    "# ax.loglog(freq, abs(PHI))\n",
    "ax.loglog(f,phi)\n",
    "ax.loglog(f2,phi2)\n",
    "ax.loglog(CPDfreqa, CPDa)\n",
    "ax.set_xlabel(u'Spatial frequency $\\\\nu$ [µm⁻¹]')\n",
    "ax.set_ylabel(u'PSD $P_{\\phi}$ [mV²$\\\\,$µm]')\n",
    "ax.set_xlim(0.3, 1e4)\n",
    "ax.set_ylim(1e-6, 1e7)\n",
    "fig.savefig('../figs/83-psd.pdf', bbox_inches='tight')"
   ]
  },
  {
   "cell_type": "code",
   "execution_count": null,
   "metadata": {},
   "outputs": [],
   "source": [
    "plt.rc('font', size=9)\n",
    "plt.rc('text', usetex=False)\n",
    "# plt.rcParams.update({'mathtext.fontset':'cm'})\n",
    "\n",
    "fig, ax = plt.subplots(figsize=(3, 2.5))\n",
    "ax.grid(which='both', color='1', linestyle='-', linewidth=0.75)\n",
    "efm = py[0]\n",
    "dec = 40\n",
    "dec_pts = 160\n",
    "i = dec_pts*dec//3 * 2\n",
    "scale = 3.5\n",
    "# f, phi = log_bins(freq[1:], abs(PHI)[1:], 1)\n",
    "# f2, phi2 = log_bins(freq2[1:], abs(PHI2)[1:], 1.07)\n",
    "# ax.loglog(freq, abs(PHI))\n",
    "ax.loglog(freq,1.0 - np.cumsum(PHI)/np.sum(PHI))\n",
    "ax.loglog(freq2,1.0-np.cumsum(PHI2)/np.sum(PHI2))\n",
    "ax.plot(CPDfreq, 2.0 - np.cumsum(CPD)/(np.sum(CPD)/2))\n",
    "ax.set_xlabel(u'Spatial frequency $\\\\nu$ [µm⁻¹]')\n",
    "ax.set_ylabel(u'PSD $P_{\\phi}$ [mV²$\\\\,$µm]')\n",
    "ax.set_ylim(1e-5, 1)\n",
    "# ax.set_xlim(0, 5)\n",
    "# ax.set_ylim(0, 0.35e8)\n",
    "# fig.savefig('../figs/83-psd.pdf', bbox_inches='tight')"
   ]
  },
  {
   "cell_type": "code",
   "execution_count": null,
   "metadata": {
    "collapsed": true
   },
   "outputs": [],
   "source": [
    "!cp ../figs/83-psd.pdf /Users/ryandwyer/Dropbox/_JAM_MS__Dwyer201705__PMKPFM__figs/"
   ]
  },
  {
   "cell_type": "code",
   "execution_count": null,
   "metadata": {
    "collapsed": true
   },
   "outputs": [],
   "source": [
    "# dt = np.mean(np.gradient(efm('t')))\n",
    "PHI3 = np.fft.rfft(py[45].phi*signal.windows.blackman(py[45].phi.size))\n",
    "freq3 = np.fft.rfftfreq(py[45].phi.size, py[45].dt)"
   ]
  },
  {
   "cell_type": "code",
   "execution_count": null,
   "metadata": {},
   "outputs": [],
   "source": [
    "plt.rc('font', size=9)\n",
    "plt.rc('text', usetex=False)\n",
    "# plt.rcParams.update({'mathtext.fontset':'cm'})\n",
    "\n",
    "fig, ax = plt.subplots(figsize=(3, 2.5))\n",
    "ax.grid(which='both', color='1', linestyle='-', linewidth=0.75)\n",
    "efm = py[0]\n",
    "dec = 40\n",
    "dec_pts = 160\n",
    "i = dec_pts*dec//3 * 2\n",
    "scale = 3.5\n",
    "f, phi = log_bins(freq[1:], abs(PHI)[1:], 1.07)\n",
    "f2, phi2 = log_bins(freq2[1:], abs(PHI2)[1:], 1.07)\n",
    "f3, phi3 = log_bins(freq2[1:], abs(PHI3)[1:], 1.07)\n",
    "# ax.loglog(freq, abs(PHI))\n",
    "ax.loglog(f,phi)\n",
    "ax.loglog(f2,phi2)\n",
    "# ax.loglog(f3, phi3, zorder=3)"
   ]
  },
  {
   "cell_type": "code",
   "execution_count": null,
   "metadata": {},
   "outputs": [],
   "source": [
    "efm.phi"
   ]
  },
  {
   "cell_type": "code",
   "execution_count": null,
   "metadata": {
    "collapsed": true
   },
   "outputs": [],
   "source": [
    "dx = np.mean(np.gradient(efm.x_dc))\n",
    "# dt = np.mean(np.gradient(efm('t')))\n",
    "freq, PHI = signal.periodogram(efm.phi, 1/efm.dt, window='blackman')"
   ]
  },
  {
   "cell_type": "code",
   "execution_count": null,
   "metadata": {},
   "outputs": [],
   "source": [
    "plt.rc('font', size=9)\n",
    "plt.rc('text', usetex=False)\n",
    "# plt.rcParams.update({'mathtext.fontset':'cm'})\n",
    "\n",
    "fig, ax = plt.subplots(figsize=(3, 2.5))\n",
    "ax.grid(which='both', color='1', linestyle='-', linewidth=0.75)\n",
    "efm = py[0]\n",
    "dec = 40\n",
    "dec_pts = 160\n",
    "i = dec_pts*dec//3 * 2\n",
    "scale = 3.5\n",
    "f, phi = log_bins(freq[1:], abs(PHI)[1:], 1.07)\n",
    "# ax.loglog(freq, abs(PHI))\n",
    "ax.loglog(f,phi)"
   ]
  },
  {
   "cell_type": "code",
   "execution_count": null,
   "metadata": {
    "collapsed": true
   },
   "outputs": [],
   "source": []
  }
 ],
 "metadata": {
  "anaconda-cloud": {},
  "kernelspec": {
   "display_name": "Python [default]",
   "language": "python",
   "name": "python2"
  },
  "language_info": {
   "codemirror_mode": {
    "name": "ipython",
    "version": 2
   },
   "file_extension": ".py",
   "mimetype": "text/x-python",
   "name": "python",
   "nbconvert_exporter": "python",
   "pygments_lexer": "ipython2",
   "version": "2.7.12"
  }
 },
 "nbformat": 4,
 "nbformat_minor": 1
}
